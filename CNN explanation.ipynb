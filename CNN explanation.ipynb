{
 "cells": [
  {
   "cell_type": "markdown",
   "metadata": {},
   "source": [
    "# A look inside convolutional neural networks"
   ]
  },
  {
   "cell_type": "markdown",
   "metadata": {},
   "source": [
    "This will be a look inside convolutional neural networks. We'll be building them from scratch."
   ]
  },
  {
   "cell_type": "code",
   "execution_count": 1,
   "metadata": {},
   "outputs": [],
   "source": [
    "from neural_net import conv_helpers"
   ]
  },
  {
   "cell_type": "code",
   "execution_count": 2,
   "metadata": {},
   "outputs": [
    {
     "name": "stdout",
     "output_type": "stream",
     "text": [
      "Hello convolution!\n"
     ]
    }
   ],
   "source": [
    "conv_helpers.hello_conv()"
   ]
  },
  {
   "cell_type": "code",
   "execution_count": null,
   "metadata": {},
   "outputs": [],
   "source": [
    "class Conv(Layer, ParamMixin):\n",
    "    def __init__(self, n_feats, filter_shape, strides, weight_scale,\n",
    "                 weight_decay=0.0, padding_mode='same', border_mode='nearest'):\n",
    "        self.n_feats = n_feats\n",
    "        self.filter_shape = filter_shape\n",
    "        self.strides = strides\n",
    "        self.weight_scale = weight_scale\n",
    "        self.weight_decay = weight_decay\n",
    "        self.padding_mode = padding_mode\n",
    "        self.border_mode = border_mode\n",
    "\n",
    "    def _setup(self, input_shape, rng):\n",
    "        n_channels = input_shape[1]\n",
    "        W_shape = (n_channels, self.n_feats) + self.filter_shape\n",
    "        self.W = rng.normal(size=W_shape, scale=self.weight_scale)\n",
    "        self.b = np.zeros(self.n_feats)\n",
    "\n",
    "    def fprop(self, input):\n",
    "        self.last_input = input\n",
    "        self.last_input_shape = input.shape\n",
    "        convout = np.empty(self.output_shape(input.shape))\n",
    "        convout = conv_bc01(input, self.W, convout)\n",
    "        return convout + self.b[np.newaxis, :, np.newaxis, np.newaxis]\n",
    "\n",
    "    def bprop(self, output_grad):\n",
    "        input_grad = np.empty(self.last_input_shape)\n",
    "        self.dW = np.empty(self.W.shape)\n",
    "        input_grad, self.dW = bprop_conv_bc01(self.last_input, output_grad,\n",
    "                                              self.W, input_grad, self.dW)\n",
    "        n_imgs = output_grad.shape[0]\n",
    "        self.db = np.sum(output_grad, axis=(0, 2, 3)) / (n_imgs)\n",
    "        self.dW -= self.weight_decay*self.W\n",
    "        return input_grad\n",
    "\n",
    "    def params(self):\n",
    "        return self.W, self.b\n",
    "\n",
    "    def param_incs(self):\n",
    "        return self.dW, self.db\n",
    "\n",
    "    def param_grads(self):\n",
    "        # undo weight decay\n",
    "        gW = self.dW+self.weight_decay*self.W\n",
    "        return gW, self.db\n",
    "\n",
    "    def output_shape(self, input_shape):\n",
    "        if self.padding_mode == 'same':\n",
    "            h = input_shape[2]\n",
    "            w = input_shape[3]\n",
    "        elif self.padding_mode == 'full':\n",
    "            h = input_shape[2]-self.filter_shape[1]+1\n",
    "            w = input_shape[3]-self.filter_shape[2]+1\n",
    "        else:\n",
    "            h = input_shape[2]+self.filter_shape[1]-1\n",
    "            w = input_shape[3]+self.filter_shape[2]-1\n",
    "        shape = (input_shape[0], self.n_feats, h, w)\n",
    "        return shape\n",
    "\n",
    "\n",
    "class Pool(Layer):\n",
    "    def __init__(self, pool_shape=(3, 3), strides=(1, 1), mode='max'):\n",
    "        self.mode = mode\n",
    "        self.pool_h, self.pool_w = pool_shape\n",
    "        self.stride_y, self.stride_x = strides\n",
    "\n",
    "    def fprop(self, input):\n",
    "        self.last_input_shape = input.shape\n",
    "        self.last_switches = np.empty(self.output_shape(input.shape)+(2,),\n",
    "                                      dtype=np.int)\n",
    "        poolout = np.empty(self.output_shape(input.shape))\n",
    "        poolout, switches = pool_bc01(input, poolout, self.last_switches, self.pool_h, self.pool_w,\n",
    "                  self.stride_y, self.stride_x)\n",
    "        self.last_switches = switches\n",
    "        return poolout\n",
    "\n",
    "    def bprop(self, output_grad):\n",
    "        input_grad = np.empty(self.last_input_shape)\n",
    "        input_grad = bprop_pool_bc01(output_grad, self.last_switches, input_grad)\n",
    "        return input_grad\n",
    "\n",
    "    def output_shape(self, input_shape):\n",
    "        shape = (input_shape[0],\n",
    "                 input_shape[1],\n",
    "                 input_shape[2]//self.stride_y,\n",
    "                 input_shape[3]//self.stride_x)\n",
    "        return shape"
   ]
  },
  {
   "cell_type": "code",
   "execution_count": null,
   "metadata": {},
   "outputs": [],
   "source": []
  },
  {
   "cell_type": "markdown",
   "metadata": {
    "heading_collapsed": true
   },
   "source": [
    "# Notes"
   ]
  },
  {
   "cell_type": "markdown",
   "metadata": {
    "hidden": true
   },
   "source": [
    "How are layers in a convolutional neural network connected?\n",
    "\n",
    "If we start off with an image that is 32 x 32 x 3 - color images - how can we change this to a convolutional layer?"
   ]
  },
  {
   "cell_type": "markdown",
   "metadata": {
    "hidden": true
   },
   "source": [
    "We've all see diagrams like this:"
   ]
  },
  {
   "cell_type": "markdown",
   "metadata": {
    "hidden": true
   },
   "source": [
    "<img src=\"http://www.wildml.com/2015/11/understanding-convolutional-neural-networks-for-nlp/\">"
   ]
  },
  {
   "cell_type": "markdown",
   "metadata": {
    "hidden": true
   },
   "source": [
    "How does the convolution actually happen?"
   ]
  },
  {
   "cell_type": "markdown",
   "metadata": {
    "hidden": true
   },
   "source": [
    "Let's consider an individual 3 x 3 filter that is slid over an image. How will this filter be connected to the next layer?"
   ]
  },
  {
   "cell_type": "markdown",
   "metadata": {
    "hidden": true
   },
   "source": [
    "The top left corner of the filter will be multiplied by the appropriate range of pixels in the output image (perhaps excluding the bottom right). "
   ]
  },
  {
   "cell_type": "markdown",
   "metadata": {
    "hidden": true
   },
   "source": [
    "In addition, if the input has three channels, the filter will be multiplied by each channel of each part of the image. "
   ]
  },
  {
   "cell_type": "markdown",
   "metadata": {
    "hidden": true
   },
   "source": [
    "The gradient that the filters will receive is of shape:\n",
    "\n",
    "[1, 12, 28, 28]\n",
    "\n",
    "Essentially, 12 channels.\n",
    "\n",
    "The images being multiplied by these filters are of shape:\n",
    "\n",
    "[1, 1 (of 3), 28, 28]\n",
    "\n",
    "For the filters, the element:\n",
    "\n",
    "[1 (of 3), 1 (of 12), 1, 1]\n",
    "\n",
    "contributes to certain outputs in the next layer that are all the places where a pixel in the image was multiplied by a this particular filter value to get a particular value in the output. For image size of 28x28 and stride of 5, this would correspond to roughly a 24 x 24 patch. \n",
    "\n",
    "So, _the sum takes place for a given input channel and output channel_, across all the image locations."
   ]
  },
  {
   "cell_type": "markdown",
   "metadata": {
    "hidden": true
   },
   "source": [
    "For images, let's consider a pixel in input channel 1, and where affects the next layer. It is going to affect all 12 of the filters - and again, affect them based on the components of the filter that it has been multiplied by."
   ]
  },
  {
   "cell_type": "markdown",
   "metadata": {
    "hidden": true
   },
   "source": [
    "An insight: even though the channels differ in the convout, a given filter location and image location maps to one particular convout location. \n",
    "\n",
    "The converse is not true: a given convout location is mapped to by several filter-image location combinations. \n",
    "\n",
    "So, the overall strategy will be:\n",
    "1. Fix a convout location (including the channel_out)\n",
    "2. Find all the filter x and y locations that map to that (will usually be all, unless we're on an edge)\n",
    "3. Find the image locations that correspond to that convout location (these should correspond to the filter locations)\n",
    "4. Update the _filter gradient_ by looping over the _image locations_ that map to this convout location.\n",
    "5. Update the _image gradient_ by looping over the _filter locations_ that map to this convout location. \n",
    "6. Do steps 4 and 5 for each input image channel."
   ]
  },
  {
   "cell_type": "markdown",
   "metadata": {
    "hidden": true
   },
   "source": [
    "## Next steps:"
   ]
  },
  {
   "cell_type": "markdown",
   "metadata": {
    "hidden": true
   },
   "source": [
    " "
   ]
  },
  {
   "cell_type": "markdown",
   "metadata": {
    "hidden": true
   },
   "source": [
    "So, getting the filter gradient, and the image gradient, and the convout gradient to line up correctly involves looping over:\n",
    "1. Fix a location in the convout:\n",
    "2. "
   ]
  }
 ],
 "metadata": {
  "kernelspec": {
   "display_name": "Python 3",
   "language": "python",
   "name": "python3"
  },
  "language_info": {
   "codemirror_mode": {
    "name": "ipython",
    "version": 3
   },
   "file_extension": ".py",
   "mimetype": "text/x-python",
   "name": "python",
   "nbconvert_exporter": "python",
   "pygments_lexer": "ipython3",
   "version": "3.6.3"
  }
 },
 "nbformat": 4,
 "nbformat_minor": 2
}
